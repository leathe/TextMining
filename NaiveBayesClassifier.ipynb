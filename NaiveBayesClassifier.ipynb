{
 "cells": [
  {
   "cell_type": "code",
   "execution_count": 22,
   "metadata": {},
   "outputs": [],
   "source": [
    "import nltk\n",
    "from nltk.corpus import movie_reviews as reviews"
   ]
  },
  {
   "cell_type": "code",
   "execution_count": 23,
   "metadata": {
    "collapsed": true
   },
   "outputs": [],
   "source": [
    "pos_ids = reviews.fileids('pos')\n",
    "neg_ids = reviews.fileids('neg')"
   ]
  },
  {
   "cell_type": "code",
   "execution_count": 25,
   "metadata": {},
   "outputs": [],
   "source": [
    "def word_features(words):\n",
    "    return dict((word, True) for word in words)"
   ]
  },
  {
   "cell_type": "code",
   "execution_count": 26,
   "metadata": {
    "collapsed": true
   },
   "outputs": [],
   "source": [
    "from nltk.collocations import BigramCollocationFinder\n",
    "from nltk.metrics import BigramAssocMeasures as BAM\n",
    "from itertools import chain\n",
    "\n",
    "def bigram_features(words, score_fn=BAM.chi_sq):\n",
    "    bg_finder = BigramCollocationFinder.from_words(words)\n",
    "    bigrams = bg_finder.nbest(score_fn, 100000)\n",
    "    return dict((bg, True) for bg in chain(words, bigrams))"
   ]
  },
  {
   "cell_type": "code",
   "execution_count": 59,
   "metadata": {},
   "outputs": [],
   "source": [
    "from nltk.classify import NaiveBayesClassifier\n",
    "\n",
    "neg_examples = [(word_features(reviews.words(i)), 'neg') for i in neg_ids]\n",
    "pos_examples = [(word_features(reviews.words(i)), 'pos') for i in pos_ids]\n",
    "train_set = pos_examples + neg_examples\n",
    "\n",
    "# neg_examples_bigram = [(bigram_features(reviews.words(i)), 'neg') for i in neg_ids]\n",
    "# pos_examples_bigram = [(bigram_features(reviews.words(i)), 'pos') for i in pos_ids]\n",
    "# train_set_bigram = pos_examples_bigram + neg_examples_bigram\n",
    "\n",
    "classifier = NaiveBayesClassifier.train(train_set)\n",
    "# classifier_bigram = NaiveBayesClassifier.train(train_set_bigram)"
   ]
  },
  {
   "cell_type": "code",
   "execution_count": 60,
   "metadata": {},
   "outputs": [
    {
     "name": "stdout",
     "output_type": "stream",
     "text": [
      "0.9675\n",
      "Most Informative Features\n",
      "                  avoids = True              pos : neg    =     13.0 : 1.0\n",
      "              astounding = True              pos : neg    =     12.3 : 1.0\n",
      "                    slip = True              pos : neg    =     11.7 : 1.0\n",
      "             outstanding = True              pos : neg    =     11.5 : 1.0\n",
      "               ludicrous = True              neg : pos    =     11.0 : 1.0\n",
      "                    3000 = True              neg : pos    =     11.0 : 1.0\n",
      "             fascination = True              pos : neg    =     11.0 : 1.0\n",
      "               insulting = True              neg : pos    =     11.0 : 1.0\n",
      "                   sucks = True              neg : pos    =     10.6 : 1.0\n",
      "                thematic = True              pos : neg    =     10.3 : 1.0\n"
     ]
    }
   ],
   "source": [
    "print(nltk.classify.accuracy(classifier, train_set))\n",
    "classifier.show_most_informative_features()"
   ]
  },
  {
   "cell_type": "code",
   "execution_count": 61,
   "metadata": {},
   "outputs": [],
   "source": [
    "# print(nltk.classify.accuracy(classifier_bigram, train_set))\n",
    "# classifier_bigram.show_most_informative_features()"
   ]
  },
  {
   "cell_type": "code",
   "execution_count": null,
   "metadata": {},
   "outputs": [],
   "source": []
  }
 ],
 "metadata": {
  "kernelspec": {
   "display_name": "Python 3",
   "language": "python",
   "name": "python3"
  },
  "language_info": {
   "codemirror_mode": {
    "name": "ipython",
    "version": 3
   },
   "file_extension": ".py",
   "mimetype": "text/x-python",
   "name": "python",
   "nbconvert_exporter": "python",
   "pygments_lexer": "ipython3",
   "version": "3.6.3"
  }
 },
 "nbformat": 4,
 "nbformat_minor": 2
}
