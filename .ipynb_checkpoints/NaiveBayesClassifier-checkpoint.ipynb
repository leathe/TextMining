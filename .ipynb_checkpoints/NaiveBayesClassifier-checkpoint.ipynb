{
 "cells": [
  {
   "cell_type": "code",
   "execution_count": 22,
   "metadata": {},
   "outputs": [],
   "source": [
    "import nltk\n",
    "from nltk.corpus import movie_reviews as reviews"
   ]
  },
  {
   "cell_type": "code",
   "execution_count": 23,
   "metadata": {
    "collapsed": true
   },
   "outputs": [],
   "source": [
    "pos_ids = reviews.fileids('pos')\n",
    "neg_ids = reviews.fileids('neg')"
   ]
  },
  {
   "cell_type": "code",
   "execution_count": 25,
   "metadata": {},
   "outputs": [],
   "source": [
    "def word_features(words):\n",
    "    return dict((word, True) for word in words)"
   ]
  },
  {
   "cell_type": "code",
   "execution_count": 26,
   "metadata": {
    "collapsed": true
   },
   "outputs": [],
   "source": [
    "from nltk.collocations import BigramCollocationFinder\n",
    "from nltk.metrics import BigramAssocMeasures as BAM\n",
    "from itertools import chain\n",
    "\n",
    "def bigram_features(words, score_fn=BAM.chi_sq):\n",
    "    bg_finder = BigramCollocationFinder.from_words(words)\n",
    "    bigrams = bg_finder.nbest(score_fn, 100000)\n",
    "    return dict((bg, True) for bg in chain(words, bigrams))"
   ]
  },
  {
   "cell_type": "code",
   "execution_count": 36,
   "metadata": {},
   "outputs": [],
   "source": [
    "from nltk.classify import NaiveBayesClassifier\n",
    "\n",
    "neg_examples = [(word_features(reviews.words(i)), 'neg') for i in neg_ids]\n",
    "pos_examples = [(word_features(reviews.words(i)), 'pos') for i in pos_ids]\n",
    "train_set = pos_examples + neg_examples\n",
    "\n",
    "neg_examples_bigram = [(bigram_features(reviews.words(i)), 'neg') for i in neg_ids]\n",
    "pos_examples_bigram = [(bigram_features(reviews.words(i)), 'pos') for i in pos_ids]\n",
    "train_set_bigram = pos_examples_bigram + neg_examples_bigram\n",
    "\n",
    "classifier = NaiveBayesClassifier.train(train_set)\n",
    "classifier_bigram = NaiveBayesClassifier.train(train_set_bigram)"
   ]
  },
  {
   "cell_type": "code",
   "execution_count": 42,
   "metadata": {},
   "outputs": [
    {
     "name": "stdout",
     "output_type": "stream",
     "text": [
      "0.9675\n",
      "Most Informative Features\n",
      "                  avoids = True              pos : neg    =     13.0 : 1.0\n",
      "              astounding = True              pos : neg    =     12.3 : 1.0\n",
      "                    slip = True              pos : neg    =     11.7 : 1.0\n",
      "             outstanding = True              pos : neg    =     11.5 : 1.0\n",
      "               ludicrous = True              neg : pos    =     11.0 : 1.0\n",
      "                    3000 = True              neg : pos    =     11.0 : 1.0\n",
      "             fascination = True              pos : neg    =     11.0 : 1.0\n",
      "               insulting = True              neg : pos    =     11.0 : 1.0\n",
      "                   sucks = True              neg : pos    =     10.6 : 1.0\n",
      "                thematic = True              pos : neg    =     10.3 : 1.0\n"
     ]
    }
   ],
   "source": [
    "print(nltk.classify.accuracy(classifier, train_set))\n",
    "classifier.show_most_informative_features()"
   ]
  },
  {
   "cell_type": "code",
   "execution_count": 43,
   "metadata": {},
   "outputs": [
    {
     "name": "stdout",
     "output_type": "stream",
     "text": [
      "0.9675\n",
      "Most Informative Features\n",
      "      ('is', 'terrific') = True              pos : neg    =     17.7 : 1.0\n",
      "        ('not', 'funny') = True              neg : pos    =     17.7 : 1.0\n",
      "       ('and', 'boring') = True              neg : pos    =     14.3 : 1.0\n",
      "        ('.', 'cameron') = True              pos : neg    =     13.0 : 1.0\n",
      "                  avoids = True              pos : neg    =     13.0 : 1.0\n",
      "          ('our', 'own') = True              pos : neg    =     13.0 : 1.0\n",
      "        ('insult', 'to') = True              neg : pos    =     13.0 : 1.0\n",
      "              astounding = True              pos : neg    =     12.3 : 1.0\n",
      "    ('quite', 'frankly') = True              neg : pos    =     12.3 : 1.0\n",
      "       ('well', 'worth') = True              pos : neg    =     12.3 : 1.0\n"
     ]
    }
   ],
   "source": [
    "print(nltk.classify.accuracy(classifier_bigram, train_set))\n",
    "classifier_bigram.show_most_informative_features()"
   ]
  },
  {
   "cell_type": "code",
   "execution_count": 48,
   "metadata": {},
   "outputs": [
    {
     "ename": "AttributeError",
     "evalue": "'list' object has no attribute 'keys'",
     "output_type": "error",
     "traceback": [
      "\u001b[1;31m---------------------------------------------------------------------------\u001b[0m",
      "\u001b[1;31mAttributeError\u001b[0m                            Traceback (most recent call last)",
      "\u001b[1;32m<ipython-input-48-fa633e774890>\u001b[0m in \u001b[0;36m<module>\u001b[1;34m()\u001b[0m\n\u001b[1;32m----> 1\u001b[1;33m \u001b[0mprobs\u001b[0m \u001b[1;33m=\u001b[0m \u001b[0mclassifier\u001b[0m\u001b[1;33m.\u001b[0m\u001b[0mprob_classify\u001b[0m\u001b[1;33m(\u001b[0m\u001b[0msorted\u001b[0m\u001b[1;33m(\u001b[0m\u001b[0mclassifier\u001b[0m\u001b[1;33m.\u001b[0m\u001b[0mlabels\u001b[0m\u001b[1;33m(\u001b[0m\u001b[1;33m)\u001b[0m\u001b[1;33m)\u001b[0m\u001b[1;33m)\u001b[0m\u001b[1;33m\u001b[0m\u001b[0m\n\u001b[0m",
      "\u001b[1;32mD:\\Applications\\Anaconda3\\lib\\site-packages\\nltk\\classify\\naivebayes.py\u001b[0m in \u001b[0;36mprob_classify\u001b[1;34m(self, featureset)\u001b[0m\n\u001b[0;32m     93\u001b[0m         \u001b[1;31m# everything.\u001b[0m\u001b[1;33m\u001b[0m\u001b[1;33m\u001b[0m\u001b[0m\n\u001b[0;32m     94\u001b[0m         \u001b[0mfeatureset\u001b[0m \u001b[1;33m=\u001b[0m \u001b[0mfeatureset\u001b[0m\u001b[1;33m.\u001b[0m\u001b[0mcopy\u001b[0m\u001b[1;33m(\u001b[0m\u001b[1;33m)\u001b[0m\u001b[1;33m\u001b[0m\u001b[0m\n\u001b[1;32m---> 95\u001b[1;33m         \u001b[1;32mfor\u001b[0m \u001b[0mfname\u001b[0m \u001b[1;32min\u001b[0m \u001b[0mlist\u001b[0m\u001b[1;33m(\u001b[0m\u001b[0mfeatureset\u001b[0m\u001b[1;33m.\u001b[0m\u001b[0mkeys\u001b[0m\u001b[1;33m(\u001b[0m\u001b[1;33m)\u001b[0m\u001b[1;33m)\u001b[0m\u001b[1;33m:\u001b[0m\u001b[1;33m\u001b[0m\u001b[0m\n\u001b[0m\u001b[0;32m     96\u001b[0m             \u001b[1;32mfor\u001b[0m \u001b[0mlabel\u001b[0m \u001b[1;32min\u001b[0m \u001b[0mself\u001b[0m\u001b[1;33m.\u001b[0m\u001b[0m_labels\u001b[0m\u001b[1;33m:\u001b[0m\u001b[1;33m\u001b[0m\u001b[0m\n\u001b[0;32m     97\u001b[0m                 \u001b[1;32mif\u001b[0m \u001b[1;33m(\u001b[0m\u001b[0mlabel\u001b[0m\u001b[1;33m,\u001b[0m \u001b[0mfname\u001b[0m\u001b[1;33m)\u001b[0m \u001b[1;32min\u001b[0m \u001b[0mself\u001b[0m\u001b[1;33m.\u001b[0m\u001b[0m_feature_probdist\u001b[0m\u001b[1;33m:\u001b[0m\u001b[1;33m\u001b[0m\u001b[0m\n",
      "\u001b[1;31mAttributeError\u001b[0m: 'list' object has no attribute 'keys'"
     ]
    }
   ],
   "source": [
    "probs = classifier.prob_classify()"
   ]
  },
  {
   "cell_type": "code",
   "execution_count": null,
   "metadata": {
    "collapsed": true
   },
   "outputs": [],
   "source": []
  }
 ],
 "metadata": {
  "kernelspec": {
   "display_name": "Python 3",
   "language": "python",
   "name": "python3"
  },
  "language_info": {
   "codemirror_mode": {
    "name": "ipython",
    "version": 3
   },
   "file_extension": ".py",
   "mimetype": "text/x-python",
   "name": "python",
   "nbconvert_exporter": "python",
   "pygments_lexer": "ipython3",
   "version": "3.6.3"
  }
 },
 "nbformat": 4,
 "nbformat_minor": 2
}
